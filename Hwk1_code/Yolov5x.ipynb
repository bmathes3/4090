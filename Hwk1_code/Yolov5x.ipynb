{
 "cells": [
  {
   "cell_type": "code",
   "execution_count": 1,
   "id": "basic-farming",
   "metadata": {},
   "outputs": [],
   "source": [
    "import cv2\n",
    "import torch\n",
    "import time\n",
    "from PIL import Image"
   ]
  },
  {
   "cell_type": "code",
   "execution_count": 2,
   "id": "forward-quarter",
   "metadata": {},
   "outputs": [],
   "source": [
    "start = time.time()"
   ]
  },
  {
   "cell_type": "code",
   "execution_count": 3,
   "id": "desperate-science",
   "metadata": {},
   "outputs": [
    {
     "name": "stderr",
     "output_type": "stream",
     "text": [
      "Using cache found in C:\\Users\\backup_pc/.cache\\torch\\hub\\ultralytics_yolov5_master\n",
      "\n",
      "                 from  n    params  module                                  arguments                     \n",
      "  0                -1  1      8800  models.common.Focus                     [3, 80, 3]                    \n",
      "  1                -1  1    115520  models.common.Conv                      [80, 160, 3, 2]               \n",
      "  2                -1  1    309120  models.common.C3                        [160, 160, 4]                 \n",
      "  3                -1  1    461440  models.common.Conv                      [160, 320, 3, 2]              \n",
      "  4                -1  1   3285760  models.common.C3                        [320, 320, 12]                \n",
      "  5                -1  1   1844480  models.common.Conv                      [320, 640, 3, 2]              \n",
      "  6                -1  1  13125120  models.common.C3                        [640, 640, 12]                \n",
      "  7                -1  1   7375360  models.common.Conv                      [640, 1280, 3, 2]             \n",
      "  8                -1  1   4099840  models.common.SPP                       [1280, 1280, [5, 9, 13]]      \n",
      "  9                -1  1  19676160  models.common.C3                        [1280, 1280, 4, False]        \n",
      " 10                -1  1    820480  models.common.Conv                      [1280, 640, 1, 1]             \n",
      " 11                -1  1         0  torch.nn.modules.upsampling.Upsample    [None, 2, 'nearest']          \n",
      " 12           [-1, 6]  1         0  models.common.Concat                    [1]                           \n",
      " 13                -1  1   5332480  models.common.C3                        [1280, 640, 4, False]         \n",
      " 14                -1  1    205440  models.common.Conv                      [640, 320, 1, 1]              \n",
      " 15                -1  1         0  torch.nn.modules.upsampling.Upsample    [None, 2, 'nearest']          \n",
      " 16           [-1, 4]  1         0  models.common.Concat                    [1]                           \n",
      " 17                -1  1   1335040  models.common.C3                        [640, 320, 4, False]          \n",
      " 18                -1  1    922240  models.common.Conv                      [320, 320, 3, 2]              \n",
      " 19          [-1, 14]  1         0  models.common.Concat                    [1]                           \n",
      " 20                -1  1   4922880  models.common.C3                        [640, 640, 4, False]          \n",
      " 21                -1  1   3687680  models.common.Conv                      [640, 640, 3, 2]              \n",
      " 22          [-1, 10]  1         0  models.common.Concat                    [1]                           \n",
      " 23                -1  1  19676160  models.common.C3                        [1280, 1280, 4, False]        \n",
      " 24      [17, 20, 23]  1    571965  models.yolo.Detect                      [80, [[10, 13, 16, 30, 33, 23], [30, 61, 62, 45, 59, 119], [116, 90, 156, 198, 373, 326]], [320, 640, 1280]]\n",
      "Model Summary: 607 layers, 87775965 parameters, 87775965 gradients, 219.0 GFLOPS\n",
      "\n"
     ]
    },
    {
     "name": "stdout",
     "output_type": "stream",
     "text": [
      "Adding autoShape... \n"
     ]
    }
   ],
   "source": [
    "# Model\n",
    "model = torch.hub.load('ultralytics/yolov5', 'yolov5x', pretrained=True)  # for file/URI/PIL/cv2/np inputs and NMS"
   ]
  },
  {
   "cell_type": "code",
   "execution_count": 4,
   "id": "acknowledged-trauma",
   "metadata": {},
   "outputs": [
    {
     "name": "stdout",
     "output_type": "stream",
     "text": [
      "Downloading zidane.jpg...\n"
     ]
    },
    {
     "data": {
      "application/vnd.jupyter.widget-view+json": {
       "model_id": "51352fde8b754e6c9ae104df63fae357",
       "version_major": 2,
       "version_minor": 0
      },
      "text/plain": [
       "HBox(children=(HTML(value=''), FloatProgress(value=0.0, max=168949.0), HTML(value='')))"
      ]
     },
     "metadata": {},
     "output_type": "display_data"
    },
    {
     "name": "stdout",
     "output_type": "stream",
     "text": [
      "\n",
      "Downloading bus.jpg...\n"
     ]
    },
    {
     "data": {
      "application/vnd.jupyter.widget-view+json": {
       "model_id": "d74d11a073bf46e2bc99dbc8e3b18021",
       "version_major": 2,
       "version_minor": 0
      },
      "text/plain": [
       "HBox(children=(HTML(value=''), FloatProgress(value=0.0, max=487438.0), HTML(value='')))"
      ]
     },
     "metadata": {},
     "output_type": "display_data"
    },
    {
     "name": "stdout",
     "output_type": "stream",
     "text": [
      "\n"
     ]
    }
   ],
   "source": [
    "# Images\n",
    "for f in ['zidane.jpg', 'bus.jpg']:  # download 2 images\n",
    "    print(f'Downloading {f}...')\n",
    "    torch.hub.download_url_to_file('https://github.com/ultralytics/yolov5/releases/download/v1.0/' + f, f)\n",
    "img1 = Image.open('zidane.jpg')  # PIL image\n",
    "img2 = cv2.imread('bus.jpg')[:, :, ::-1]  # OpenCV image (BGR to RGB)\n",
    "imgs = [img1, img2]  # batched list of images\n",
    "#from PIL import Image\n",
    "#imgs = Image.open(\"C:/Users/backup_pc/yolov5/data/images/intersection.jpg\")"
   ]
  },
  {
   "cell_type": "code",
   "execution_count": 5,
   "id": "romantic-citizen",
   "metadata": {},
   "outputs": [],
   "source": [
    "# Inference\n",
    "results = model(imgs, size=640)  # includes NMS"
   ]
  },
  {
   "cell_type": "code",
   "execution_count": 6,
   "id": "funky-imagination",
   "metadata": {},
   "outputs": [
    {
     "name": "stdout",
     "output_type": "stream",
     "text": [
      "image 1/2: 720x1280 2 persons, 3 ties\n",
      "image 2/2: 1080x810 4 persons, 1 bus\n",
      "Saving results\\zidane.jpg, results\\image1.jpg, done.\n"
     ]
    }
   ],
   "source": [
    "# Results\n",
    "results.print()  # print results to screen\n",
    "results.show()  # display results\n",
    "results.save()  # save as results1.jpg, results2.jpg... etc."
   ]
  },
  {
   "cell_type": "code",
   "execution_count": 7,
   "id": "controlled-simulation",
   "metadata": {},
   "outputs": [
    {
     "name": "stdout",
     "output_type": "stream",
     "text": [
      "\n",
      " tensor([[7.45778e+02, 4.02508e+01, 1.13639e+03, 7.11424e+02, 9.26446e-01, 0.00000e+00],\n",
      "        [1.17921e+02, 1.99073e+02, 1.09801e+03, 7.13191e+02, 8.90950e-01, 0.00000e+00],\n",
      "        [4.34272e+02, 4.37402e+02, 5.26250e+02, 7.16035e+02, 8.90879e-01, 2.70000e+01],\n",
      "        [9.91208e+02, 3.14884e+02, 1.03911e+03, 4.16256e+02, 3.34690e-01, 2.70000e+01],\n",
      "        [9.82900e+02, 3.02441e+02, 1.13382e+03, 7.03309e+02, 2.84675e-01, 2.70000e+01]])\n"
     ]
    }
   ],
   "source": [
    "print('\\n', results.xyxy[0])  # print img1 predictions"
   ]
  },
  {
   "cell_type": "code",
   "execution_count": 8,
   "id": "operational-result",
   "metadata": {},
   "outputs": [],
   "source": [
    "stop = time.time()"
   ]
  },
  {
   "cell_type": "code",
   "execution_count": 9,
   "id": "tough-saudi",
   "metadata": {},
   "outputs": [],
   "source": [
    "duration = stop - start"
   ]
  },
  {
   "cell_type": "code",
   "execution_count": 10,
   "id": "worldwide-puppy",
   "metadata": {},
   "outputs": [
    {
     "name": "stdout",
     "output_type": "stream",
     "text": [
      "\n",
      " 15.890516757965088\n"
     ]
    }
   ],
   "source": [
    "print('\\n', duration)  # print time it takes to run algorithm for images located in data/images"
   ]
  }
 ],
 "metadata": {
  "kernelspec": {
   "display_name": "Python 3",
   "language": "python",
   "name": "python3"
  },
  "language_info": {
   "codemirror_mode": {
    "name": "ipython",
    "version": 3
   },
   "file_extension": ".py",
   "mimetype": "text/x-python",
   "name": "python",
   "nbconvert_exporter": "python",
   "pygments_lexer": "ipython3",
   "version": "3.8.5"
  }
 },
 "nbformat": 4,
 "nbformat_minor": 5
}

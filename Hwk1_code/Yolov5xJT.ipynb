{
 "cells": [
  {
   "cell_type": "code",
   "execution_count": 1,
   "id": "according-glass",
   "metadata": {},
   "outputs": [],
   "source": [
    "import cv2\n",
    "import torch\n",
    "import time\n",
    "from PIL import Image"
   ]
  },
  {
   "cell_type": "code",
   "execution_count": 2,
   "id": "driving-speaker",
   "metadata": {},
   "outputs": [],
   "source": [
    "start = time.time()"
   ]
  },
  {
   "cell_type": "code",
   "execution_count": 3,
   "id": "olive-concept",
   "metadata": {},
   "outputs": [
    {
     "name": "stderr",
     "output_type": "stream",
     "text": [
      "Using cache found in /home/brad/.cache/torch/hub/ultralytics_yolov5_master\n",
      "\n",
      "                 from  n    params  module                                  arguments                     \n",
      "  0                -1  1      8800  models.common.Focus                     [3, 80, 3]                    \n",
      "  1                -1  1    115520  models.common.Conv                      [80, 160, 3, 2]               \n",
      "  2                -1  1    309120  models.common.C3                        [160, 160, 4]                 \n",
      "  3                -1  1    461440  models.common.Conv                      [160, 320, 3, 2]              \n",
      "  4                -1  1   3285760  models.common.C3                        [320, 320, 12]                \n",
      "  5                -1  1   1844480  models.common.Conv                      [320, 640, 3, 2]              \n",
      "  6                -1  1  13125120  models.common.C3                        [640, 640, 12]                \n",
      "  7                -1  1   7375360  models.common.Conv                      [640, 1280, 3, 2]             \n",
      "  8                -1  1   4099840  models.common.SPP                       [1280, 1280, [5, 9, 13]]      \n",
      "  9                -1  1  19676160  models.common.C3                        [1280, 1280, 4, False]        \n",
      " 10                -1  1    820480  models.common.Conv                      [1280, 640, 1, 1]             \n",
      " 11                -1  1         0  torch.nn.modules.upsampling.Upsample    [None, 2, 'nearest']          \n",
      " 12           [-1, 6]  1         0  models.common.Concat                    [1]                           \n",
      " 13                -1  1   5332480  models.common.C3                        [1280, 640, 4, False]         \n",
      " 14                -1  1    205440  models.common.Conv                      [640, 320, 1, 1]              \n",
      " 15                -1  1         0  torch.nn.modules.upsampling.Upsample    [None, 2, 'nearest']          \n",
      " 16           [-1, 4]  1         0  models.common.Concat                    [1]                           \n",
      " 17                -1  1   1335040  models.common.C3                        [640, 320, 4, False]          \n",
      " 18                -1  1    922240  models.common.Conv                      [320, 320, 3, 2]              \n",
      " 19          [-1, 14]  1         0  models.common.Concat                    [1]                           \n",
      " 20                -1  1   4922880  models.common.C3                        [640, 640, 4, False]          \n",
      " 21                -1  1   3687680  models.common.Conv                      [640, 640, 3, 2]              \n",
      " 22          [-1, 10]  1         0  models.common.Concat                    [1]                           \n",
      " 23                -1  1  19676160  models.common.C3                        [1280, 1280, 4, False]        \n",
      " 24      [17, 20, 23]  1    571965  models.yolo.Detect                      [80, [[10, 13, 16, 30, 33, 23], [30, 61, 62, 45, 59, 119], [116, 90, 156, 198, 373, 326]], [320, 640, 1280]]\n",
      "Model Summary: 607 layers, 87775965 parameters, 87775965 gradients, 219.0 GFLOPS\n",
      "\n"
     ]
    },
    {
     "name": "stdout",
     "output_type": "stream",
     "text": [
      "Adding autoShape... \n"
     ]
    }
   ],
   "source": [
    "# Model\n",
    "model = torch.hub.load('ultralytics/yolov5', 'yolov5x', pretrained=True)  # for file/URI/PIL/cv2/np inputs and NMS"
   ]
  },
  {
   "cell_type": "code",
   "execution_count": 4,
   "id": "novel-option",
   "metadata": {},
   "outputs": [],
   "source": [
    "# Images\n",
    "from PIL import Image\n",
    "img1 = Image.open(\"/home/brad/Desktop/hwk1_2/ball.jpg\")\n",
    "img2 = Image.open(\"/home/brad/Desktop/hwk1_2/barn.jpg\")\n",
    "img3 = Image.open(\"/home/brad/Desktop/hwk1_2/car.jpg\")\n",
    "img4 = Image.open(\"/home/brad/Desktop/hwk1_2/castle.jpg\")\n",
    "img5 = Image.open(\"/home/brad/Desktop/hwk1_2/Cat03.jpg\")\n",
    "img6 = Image.open(\"/home/brad/Desktop/hwk1_2/cows.jpg\")\n",
    "img7 = Image.open(\"/home/brad/Desktop/hwk1_2/dog.jpg\")\n",
    "img8 = Image.open(\"/home/brad/Desktop/hwk1_2/fishes.jpg\")\n",
    "img9 = Image.open(\"/home/brad/Desktop/hwk1_2/fishman.jpg\")\n",
    "img10 = Image.open(\"/home/brad/Desktop/hwk1_2/hogwarts.jpg\")\n",
    "img11 = Image.open(\"/home/brad/Desktop/hwk1_2/kfc.jpg\")\n",
    "img12 = Image.open(\"/home/brad/Desktop/hwk1_2/leaf.jpg\")\n",
    "img13 = Image.open(\"/home/brad/Desktop/hwk1_2/mario.jpg\")\n",
    "img14 = Image.open(\"/home/brad/Desktop/hwk1_2/pigs.jpg\")\n",
    "img15 = Image.open(\"/home/brad/Desktop/hwk1_2/truck.jpg\")\n",
    "img16 = Image.open(\"/home/brad/Desktop/hwk1_2/website.jpg\")\n",
    "imgs = [img1,img2,img3,img4,img5,img6,img7,img8]  # batched list of images"
   ]
  },
  {
   "cell_type": "code",
   "execution_count": 5,
   "id": "current-loading",
   "metadata": {},
   "outputs": [],
   "source": [
    "# Inference\n",
    "results = model(imgs, size=640)  # includes NMS"
   ]
  },
  {
   "cell_type": "code",
   "execution_count": 6,
   "id": "permanent-distinction",
   "metadata": {},
   "outputs": [
    {
     "name": "stdout",
     "output_type": "stream",
     "text": [
      "image 1/8: 1080x1920 1 airplane\n",
      "image 2/8: 420x550\n",
      "image 3/8: 1080x1920 1 car\n",
      "image 4/8: 512x768 7 persons, 1 car\n",
      "image 5/8: 1598x1600 1 cat\n",
      "image 6/8: 400x600 20 cows\n",
      "image 7/8: 300x332 1 dog\n",
      "image 8/8: 900x1200 14 birds, 3 bananas\n",
      "Saving results/ball.jpg, results/barn.jpg, results/car.jpg, results/castle.jpg, results/Cat03.jpg, results/cows.jpg, results/dog.jpg, results/fishes.jpg, done.\n"
     ]
    }
   ],
   "source": [
    "# Results\n",
    "results.print()  # print results to screen\n",
    "#results.show()  # display results\n",
    "results.save()  # save as results1.jpg, results2.jpg... etc."
   ]
  },
  {
   "cell_type": "code",
   "execution_count": 7,
   "id": "opening-density",
   "metadata": {},
   "outputs": [
    {
     "name": "stdout",
     "output_type": "stream",
     "text": [
      "\n",
      " tensor([[8.06920e+02, 5.68325e+01, 1.72599e+03, 9.26088e+02, 4.08189e-01, 4.00000e+00]])\n"
     ]
    }
   ],
   "source": [
    "print('\\n', results.xyxy[0])  # print img1 predictions"
   ]
  },
  {
   "cell_type": "code",
   "execution_count": 8,
   "id": "deadly-approval",
   "metadata": {},
   "outputs": [],
   "source": [
    "stop = time.time()"
   ]
  },
  {
   "cell_type": "code",
   "execution_count": 9,
   "id": "extensive-rhythm",
   "metadata": {},
   "outputs": [],
   "source": [
    "duration = stop - start"
   ]
  },
  {
   "cell_type": "code",
   "execution_count": 10,
   "id": "sharp-syntax",
   "metadata": {},
   "outputs": [
    {
     "name": "stdout",
     "output_type": "stream",
     "text": [
      "\n",
      " 425.8411738872528\n"
     ]
    }
   ],
   "source": [
    "print('\\n', duration)  # print time it takes to run algorithm for images located in data/images"
   ]
  }
 ],
 "metadata": {
  "kernelspec": {
   "display_name": "Python 3",
   "language": "python",
   "name": "python3"
  },
  "language_info": {
   "codemirror_mode": {
    "name": "ipython",
    "version": 3
   },
   "file_extension": ".py",
   "mimetype": "text/x-python",
   "name": "python",
   "nbconvert_exporter": "python",
   "pygments_lexer": "ipython3",
   "version": "3.8.8"
  }
 },
 "nbformat": 4,
 "nbformat_minor": 5
}

{
 "cells": [
  {
   "cell_type": "code",
   "execution_count": 1,
   "id": "angry-disposition",
   "metadata": {},
   "outputs": [],
   "source": [
    "import cv2\n",
    "import torch\n",
    "import time\n",
    "from PIL import Image"
   ]
  },
  {
   "cell_type": "code",
   "execution_count": 2,
   "id": "ahead-latvia",
   "metadata": {},
   "outputs": [],
   "source": [
    "start = time.time()"
   ]
  },
  {
   "cell_type": "code",
   "execution_count": 3,
   "id": "neutral-elephant",
   "metadata": {},
   "outputs": [
    {
     "name": "stderr",
     "output_type": "stream",
     "text": [
      "Using cache found in /home/brad/.cache/torch/hub/ultralytics_yolov5_master\n",
      "\n",
      "                 from  n    params  module                                  arguments                     \n",
      "  0                -1  1      7040  models.common.Focus                     [3, 64, 3]                    \n",
      "  1                -1  1     73984  models.common.Conv                      [64, 128, 3, 2]               \n",
      "  2                -1  1    156928  models.common.C3                        [128, 128, 3]                 \n",
      "  3                -1  1    295424  models.common.Conv                      [128, 256, 3, 2]              \n",
      "  4                -1  1   1611264  models.common.C3                        [256, 256, 9]                 \n",
      "  5                -1  1   1180672  models.common.Conv                      [256, 512, 3, 2]              \n",
      "  6                -1  1   6433792  models.common.C3                        [512, 512, 9]                 \n",
      "  7                -1  1   4720640  models.common.Conv                      [512, 1024, 3, 2]             \n",
      "  8                -1  1   2624512  models.common.SPP                       [1024, 1024, [5, 9, 13]]      \n",
      "  9                -1  1   9971712  models.common.C3                        [1024, 1024, 3, False]        \n",
      " 10                -1  1    525312  models.common.Conv                      [1024, 512, 1, 1]             \n",
      " 11                -1  1         0  torch.nn.modules.upsampling.Upsample    [None, 2, 'nearest']          \n",
      " 12           [-1, 6]  1         0  models.common.Concat                    [1]                           \n",
      " 13                -1  1   2757632  models.common.C3                        [1024, 512, 3, False]         \n",
      " 14                -1  1    131584  models.common.Conv                      [512, 256, 1, 1]              \n",
      " 15                -1  1         0  torch.nn.modules.upsampling.Upsample    [None, 2, 'nearest']          \n",
      " 16           [-1, 4]  1         0  models.common.Concat                    [1]                           \n",
      " 17                -1  1    690688  models.common.C3                        [512, 256, 3, False]          \n",
      " 18                -1  1    590336  models.common.Conv                      [256, 256, 3, 2]              \n",
      " 19          [-1, 14]  1         0  models.common.Concat                    [1]                           \n",
      " 20                -1  1   2495488  models.common.C3                        [512, 512, 3, False]          \n",
      " 21                -1  1   2360320  models.common.Conv                      [512, 512, 3, 2]              \n",
      " 22          [-1, 10]  1         0  models.common.Concat                    [1]                           \n",
      " 23                -1  1   9971712  models.common.C3                        [1024, 1024, 3, False]        \n",
      " 24      [17, 20, 23]  1    457725  models.yolo.Detect                      [80, [[10, 13, 16, 30, 33, 23], [30, 61, 62, 45, 59, 119], [116, 90, 156, 198, 373, 326]], [256, 512, 1024]]\n",
      "Model Summary: 499 layers, 47056765 parameters, 47056765 gradients, 115.6 GFLOPS\n",
      "\n"
     ]
    },
    {
     "name": "stdout",
     "output_type": "stream",
     "text": [
      "Adding autoShape... \n"
     ]
    }
   ],
   "source": [
    "# Model\n",
    "model = torch.hub.load('ultralytics/yolov5', 'yolov5l', pretrained=True)  # for file/URI/PIL/cv2/np inputs and NMS"
   ]
  },
  {
   "cell_type": "code",
   "execution_count": 4,
   "id": "dental-argument",
   "metadata": {},
   "outputs": [],
   "source": [
    "# Images\n",
    "from PIL import Image\n",
    "img1 = Image.open(\"/home/brad/Desktop/hwk1_2/ball.jpg\")\n",
    "img2 = Image.open(\"/home/brad/Desktop/hwk1_2/barn.jpg\")\n",
    "img3 = Image.open(\"/home/brad/Desktop/hwk1_2/car.jpg\")\n",
    "img4 = Image.open(\"/home/brad/Desktop/hwk1_2/castle.jpg\")\n",
    "img5 = Image.open(\"/home/brad/Desktop/hwk1_2/Cat03.jpg\")\n",
    "img6 = Image.open(\"/home/brad/Desktop/hwk1_2/cows.jpg\")\n",
    "img7 = Image.open(\"/home/brad/Desktop/hwk1_2/dog.jpg\")\n",
    "img8 = Image.open(\"/home/brad/Desktop/hwk1_2/fishes.jpg\")\n",
    "img9 = Image.open(\"/home/brad/Desktop/hwk1_2/fishman.jpg\")\n",
    "img10 = Image.open(\"/home/brad/Desktop/hwk1_2/hogwarts.jpg\")\n",
    "img11 = Image.open(\"/home/brad/Desktop/hwk1_2/kfc.jpg\")\n",
    "img12 = Image.open(\"/home/brad/Desktop/hwk1_2/leaf.jpg\")\n",
    "img13 = Image.open(\"/home/brad/Desktop/hwk1_2/mario.jpg\")\n",
    "img14 = Image.open(\"/home/brad/Desktop/hwk1_2/pigs.jpg\")\n",
    "img15 = Image.open(\"/home/brad/Desktop/hwk1_2/truck.jpg\")\n",
    "img16 = Image.open(\"/home/brad/Desktop/hwk1_2/website.jpg\")\n",
    "imgs = [img1,img2,img3,img4,img5,img6,img7,img8,img9,img10,img11,img12,img13,img14,img15,img16]  # batched list of images"
   ]
  },
  {
   "cell_type": "code",
   "execution_count": 5,
   "id": "engaging-architecture",
   "metadata": {},
   "outputs": [],
   "source": [
    "# Inference\n",
    "results = model(imgs, size=640)  # includes NMS"
   ]
  },
  {
   "cell_type": "code",
   "execution_count": 6,
   "id": "judicial-subject",
   "metadata": {},
   "outputs": [
    {
     "name": "stdout",
     "output_type": "stream",
     "text": [
      "image 1/16: 1080x1920 1 mouse\n",
      "image 2/16: 420x550\n",
      "image 3/16: 1080x1920 1 car\n",
      "image 4/16: 512x768 7 persons, 1 car\n",
      "image 5/16: 1598x1600 1 cat\n",
      "image 6/16: 400x600 18 cows\n",
      "image 7/16: 300x332 1 dog\n",
      "image 8/16: 900x1200 5 birds, 2 bananas, 1 apple\n",
      "image 9/16: 800x1200 1 person, 1 banana\n",
      "image 10/16: 195x310 1 person, 1 bird\n",
      "image 11/16: 388x480 1 bowl, 2 donuts, 1 dining table\n",
      "image 12/16: 383x626 1 orange\n",
      "image 13/16: 534x800 1 person, 3 sports balls\n",
      "image 14/16: 247x300 5 sheeps\n",
      "image 15/16: 253x327 3 cars, 2 trucks\n",
      "image 16/16: 510x1020 1 teddy bear\n",
      "Saving results/ball.jpg, results/barn.jpg, results/car.jpg, results/castle.jpg, results/Cat03.jpg, results/cows.jpg, results/dog.jpg, results/fishes.jpg, results/fishman.jpg, results/hogwarts.jpg, results/kfc.jpg, results/leaf.jpg, results/mario.jpg, results/pigs.jpg, results/truck.jpg, results/website.jpg, done.\n"
     ]
    }
   ],
   "source": [
    "# Results\n",
    "results.print()  # print results to screen\n",
    "#results.show()  # display results\n",
    "results.save()  # save as results1.jpg, results2.jpg... etc."
   ]
  },
  {
   "cell_type": "code",
   "execution_count": 7,
   "id": "falling-finding",
   "metadata": {},
   "outputs": [
    {
     "name": "stdout",
     "output_type": "stream",
     "text": [
      "\n",
      " tensor([[8.04368e+02, 5.77463e+01, 1.72076e+03, 9.22887e+02, 4.81834e-01, 6.40000e+01]])\n"
     ]
    }
   ],
   "source": [
    "print('\\n', results.xyxy[0])  # print img1 predictions"
   ]
  },
  {
   "cell_type": "code",
   "execution_count": 8,
   "id": "hispanic-recall",
   "metadata": {},
   "outputs": [],
   "source": [
    "stop = time.time()"
   ]
  },
  {
   "cell_type": "code",
   "execution_count": 9,
   "id": "passing-helicopter",
   "metadata": {},
   "outputs": [],
   "source": [
    "duration = stop - start"
   ]
  },
  {
   "cell_type": "code",
   "execution_count": 10,
   "id": "helpful-contamination",
   "metadata": {},
   "outputs": [
    {
     "name": "stdout",
     "output_type": "stream",
     "text": [
      "\n",
      " 358.99559712409973\n"
     ]
    }
   ],
   "source": [
    "print('\\n', duration)  # print time it takes to run algorithm for images located in data/images"
   ]
  }
 ],
 "metadata": {
  "kernelspec": {
   "display_name": "Python 3",
   "language": "python",
   "name": "python3"
  },
  "language_info": {
   "codemirror_mode": {
    "name": "ipython",
    "version": 3
   },
   "file_extension": ".py",
   "mimetype": "text/x-python",
   "name": "python",
   "nbconvert_exporter": "python",
   "pygments_lexer": "ipython3",
   "version": "3.8.8"
  }
 },
 "nbformat": 4,
 "nbformat_minor": 5
}

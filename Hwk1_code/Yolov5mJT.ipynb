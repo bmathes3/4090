{
 "cells": [
  {
   "cell_type": "code",
   "execution_count": 1,
   "id": "critical-angel",
   "metadata": {},
   "outputs": [],
   "source": [
    "import cv2\n",
    "import torch\n",
    "import time\n",
    "from PIL import Image"
   ]
  },
  {
   "cell_type": "code",
   "execution_count": 2,
   "id": "marine-victorian",
   "metadata": {},
   "outputs": [],
   "source": [
    "start = time.time()"
   ]
  },
  {
   "cell_type": "code",
   "execution_count": 3,
   "id": "proud-oxford",
   "metadata": {},
   "outputs": [
    {
     "name": "stderr",
     "output_type": "stream",
     "text": [
      "Using cache found in /home/brad/.cache/torch/hub/ultralytics_yolov5_master\n",
      "\n",
      "                 from  n    params  module                                  arguments                     \n",
      "  0                -1  1      5280  models.common.Focus                     [3, 48, 3]                    \n",
      "  1                -1  1     41664  models.common.Conv                      [48, 96, 3, 2]                \n",
      "  2                -1  1     65280  models.common.C3                        [96, 96, 2]                   \n",
      "  3                -1  1    166272  models.common.Conv                      [96, 192, 3, 2]               \n",
      "  4                -1  1    629760  models.common.C3                        [192, 192, 6]                 \n",
      "  5                -1  1    664320  models.common.Conv                      [192, 384, 3, 2]              \n",
      "  6                -1  1   2512896  models.common.C3                        [384, 384, 6]                 \n",
      "  7                -1  1   2655744  models.common.Conv                      [384, 768, 3, 2]              \n",
      "  8                -1  1   1476864  models.common.SPP                       [768, 768, [5, 9, 13]]        \n",
      "  9                -1  1   4134912  models.common.C3                        [768, 768, 2, False]          \n",
      " 10                -1  1    295680  models.common.Conv                      [768, 384, 1, 1]              \n",
      " 11                -1  1         0  torch.nn.modules.upsampling.Upsample    [None, 2, 'nearest']          \n",
      " 12           [-1, 6]  1         0  models.common.Concat                    [1]                           \n",
      " 13                -1  1   1182720  models.common.C3                        [768, 384, 2, False]          \n",
      " 14                -1  1     74112  models.common.Conv                      [384, 192, 1, 1]              \n",
      " 15                -1  1         0  torch.nn.modules.upsampling.Upsample    [None, 2, 'nearest']          \n",
      " 16           [-1, 4]  1         0  models.common.Concat                    [1]                           \n",
      " 17                -1  1    296448  models.common.C3                        [384, 192, 2, False]          \n",
      " 18                -1  1    332160  models.common.Conv                      [192, 192, 3, 2]              \n",
      " 19          [-1, 14]  1         0  models.common.Concat                    [1]                           \n",
      " 20                -1  1   1035264  models.common.C3                        [384, 384, 2, False]          \n",
      " 21                -1  1   1327872  models.common.Conv                      [384, 384, 3, 2]              \n",
      " 22          [-1, 10]  1         0  models.common.Concat                    [1]                           \n",
      " 23                -1  1   4134912  models.common.C3                        [768, 768, 2, False]          \n",
      " 24      [17, 20, 23]  1    343485  models.yolo.Detect                      [80, [[10, 13, 16, 30, 33, 23], [30, 61, 62, 45, 59, 119], [116, 90, 156, 198, 373, 326]], [192, 384, 768]]\n",
      "Model Summary: 391 layers, 21375645 parameters, 21375645 gradients, 51.4 GFLOPS\n",
      "\n"
     ]
    },
    {
     "name": "stdout",
     "output_type": "stream",
     "text": [
      "Adding autoShape... \n"
     ]
    }
   ],
   "source": [
    "# Model\n",
    "model = torch.hub.load('ultralytics/yolov5', 'yolov5m', pretrained=True)  # for file/URI/PIL/cv2/np inputs and NMS"
   ]
  },
  {
   "cell_type": "code",
   "execution_count": 4,
   "id": "corresponding-feedback",
   "metadata": {},
   "outputs": [],
   "source": [
    "# Images\n",
    "from PIL import Image\n",
    "img1 = Image.open(\"/home/brad/Desktop/hwk1_2/ball.jpg\")\n",
    "img2 = Image.open(\"/home/brad/Desktop/hwk1_2/barn.jpg\")\n",
    "img3 = Image.open(\"/home/brad/Desktop/hwk1_2/car.jpg\")\n",
    "img4 = Image.open(\"/home/brad/Desktop/hwk1_2/castle.jpg\")\n",
    "img5 = Image.open(\"/home/brad/Desktop/hwk1_2/Cat03.jpg\")\n",
    "img6 = Image.open(\"/home/brad/Desktop/hwk1_2/cows.jpg\")\n",
    "img7 = Image.open(\"/home/brad/Desktop/hwk1_2/dog.jpg\")\n",
    "img8 = Image.open(\"/home/brad/Desktop/hwk1_2/fishes.jpg\")\n",
    "img9 = Image.open(\"/home/brad/Desktop/hwk1_2/fishman.jpg\")\n",
    "img10 = Image.open(\"/home/brad/Desktop/hwk1_2/hogwarts.jpg\")\n",
    "img11 = Image.open(\"/home/brad/Desktop/hwk1_2/kfc.jpg\")\n",
    "img12 = Image.open(\"/home/brad/Desktop/hwk1_2/leaf.jpg\")\n",
    "img13 = Image.open(\"/home/brad/Desktop/hwk1_2/mario.jpg\")\n",
    "img14 = Image.open(\"/home/brad/Desktop/hwk1_2/pigs.jpg\")\n",
    "img15 = Image.open(\"/home/brad/Desktop/hwk1_2/truck.jpg\")\n",
    "img16 = Image.open(\"/home/brad/Desktop/hwk1_2/website.jpg\")\n",
    "imgs = [img1,img2,img3,img4,img5,img6,img7,img8,img9,img10,img11,img12,img13,img14,img15,img16]  # batched list of images"
   ]
  },
  {
   "cell_type": "code",
   "execution_count": 5,
   "id": "driven-terry",
   "metadata": {},
   "outputs": [],
   "source": [
    "# Inference\n",
    "results = model(imgs, size=640)  # includes NMS"
   ]
  },
  {
   "cell_type": "code",
   "execution_count": 6,
   "id": "golden-portrait",
   "metadata": {},
   "outputs": [
    {
     "name": "stdout",
     "output_type": "stream",
     "text": [
      "image 1/16: 1080x1920\n",
      "image 2/16: 420x550\n",
      "image 3/16: 1080x1920 1 car\n",
      "image 4/16: 512x768 7 persons, 1 car\n",
      "image 5/16: 1598x1600 1 cat\n",
      "image 6/16: 400x600 19 cows\n",
      "image 7/16: 300x332 1 dog\n",
      "image 8/16: 900x1200 6 birds, 1 kite, 8 bananas\n",
      "image 9/16: 800x1200 1 person, 1 umbrella, 1 kite\n",
      "image 10/16: 195x310 1 bird\n",
      "image 11/16: 388x480 1 bowl, 1 sandwich, 2 cakes\n",
      "image 12/16: 383x626 1 orange\n",
      "image 13/16: 534x800 1 person, 2 sports balls\n",
      "image 14/16: 247x300 5 sheeps\n",
      "image 15/16: 253x327 1 car, 2 trucks\n",
      "image 16/16: 510x1020 1 teddy bear\n",
      "Saving results/ball.jpg, results/barn.jpg, results/car.jpg, results/castle.jpg, results/Cat03.jpg, results/cows.jpg, results/dog.jpg, results/fishes.jpg, results/fishman.jpg, results/hogwarts.jpg, results/kfc.jpg, results/leaf.jpg, results/mario.jpg, results/pigs.jpg, results/truck.jpg, results/website.jpg, done.\n"
     ]
    }
   ],
   "source": [
    "# Results\n",
    "results.print()  # print results to screen\n",
    "#results.show()  # display results\n",
    "results.save()  # save as results1.jpg, results2.jpg... etc."
   ]
  },
  {
   "cell_type": "code",
   "execution_count": 7,
   "id": "deluxe-seating",
   "metadata": {},
   "outputs": [
    {
     "name": "stdout",
     "output_type": "stream",
     "text": [
      "\n",
      " tensor([], size=(0, 6))\n"
     ]
    }
   ],
   "source": [
    "print('\\n', results.xyxy[0])  # print img1 predictions"
   ]
  },
  {
   "cell_type": "code",
   "execution_count": 8,
   "id": "charitable-antenna",
   "metadata": {},
   "outputs": [],
   "source": [
    "stop = time.time()"
   ]
  },
  {
   "cell_type": "code",
   "execution_count": 9,
   "id": "developed-major",
   "metadata": {},
   "outputs": [],
   "source": [
    "duration = stop - start"
   ]
  },
  {
   "cell_type": "code",
   "execution_count": 10,
   "id": "organic-triangle",
   "metadata": {},
   "outputs": [
    {
     "name": "stdout",
     "output_type": "stream",
     "text": [
      "\n",
      " 203.00650691986084\n"
     ]
    }
   ],
   "source": [
    "print('\\n', duration)  # print time it takes to run algorithm for images located in data/images"
   ]
  }
 ],
 "metadata": {
  "kernelspec": {
   "display_name": "Python 3",
   "language": "python",
   "name": "python3"
  },
  "language_info": {
   "codemirror_mode": {
    "name": "ipython",
    "version": 3
   },
   "file_extension": ".py",
   "mimetype": "text/x-python",
   "name": "python",
   "nbconvert_exporter": "python",
   "pygments_lexer": "ipython3",
   "version": "3.8.8"
  }
 },
 "nbformat": 4,
 "nbformat_minor": 5
}

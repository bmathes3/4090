{
 "cells": [
  {
   "cell_type": "code",
   "execution_count": 1,
   "id": "knowing-graphic",
   "metadata": {},
   "outputs": [],
   "source": [
    "import torch\n",
    "import cv2"
   ]
  },
  {
   "cell_type": "code",
   "execution_count": 2,
   "id": "present-outdoors",
   "metadata": {},
   "outputs": [],
   "source": [
    "from PIL import Image"
   ]
  },
  {
   "cell_type": "code",
   "execution_count": 3,
   "id": "legendary-witness",
   "metadata": {},
   "outputs": [],
   "source": [
    "img1_path = \"C:/Users/backup_pc/Desktop/Hwk2/BlueMoon.jpg\""
   ]
  },
  {
   "cell_type": "code",
   "execution_count": 4,
   "id": "played-reach",
   "metadata": {},
   "outputs": [],
   "source": [
    "img2_path = \"C:/Users/backup_pc/Desktop/Hwk2/green.jpg\""
   ]
  },
  {
   "cell_type": "code",
   "execution_count": 5,
   "id": "touched-lover",
   "metadata": {},
   "outputs": [],
   "source": [
    "img3_path = \"C:/Users/backup_pc/Desktop/Hwk2/Redpanda.jpg\""
   ]
  },
  {
   "cell_type": "code",
   "execution_count": 6,
   "id": "tutorial-thumb",
   "metadata": {},
   "outputs": [],
   "source": [
    "img1 = cv2.imread(img1_path)\n",
    "img2 = cv2.imread(img2_path)\n",
    "img3 = cv2.imread(img3_path)"
   ]
  },
  {
   "cell_type": "code",
   "execution_count": 7,
   "id": "congressional-church",
   "metadata": {},
   "outputs": [
    {
     "data": {
      "text/plain": [
       "(1200, 1920, 3)"
      ]
     },
     "execution_count": 7,
     "metadata": {},
     "output_type": "execute_result"
    }
   ],
   "source": [
    "img1.shape\n",
    "img2.shape\n",
    "img3.shape"
   ]
  },
  {
   "cell_type": "code",
   "execution_count": 9,
   "id": "incoming-trunk",
   "metadata": {},
   "outputs": [],
   "source": [
    "Tensor1 = torch.from_numpy(img1)\n",
    "Tensor2 = torch.from_numpy(img2)\n",
    "Tensor3 = torch.from_numpy(img3)"
   ]
  },
  {
   "cell_type": "code",
   "execution_count": 12,
   "id": "hairy-hierarchy",
   "metadata": {},
   "outputs": [],
   "source": [
    "Tensor1 = Tensor1.float()\n",
    "Tensor2 = Tensor2.float()\n",
    "Tensor3 = Tensor3.float()"
   ]
  },
  {
   "cell_type": "code",
   "execution_count": 15,
   "id": "enabling-soundtrack",
   "metadata": {},
   "outputs": [],
   "source": [
    "meanB1 = Tensor1[:, :, 0].mean()\n",
    "meanG1 = Tensor1[:, :, 1].mean()\n",
    "meanR1 = Tensor1[:, :, 2].mean()"
   ]
  },
  {
   "cell_type": "code",
   "execution_count": 16,
   "id": "published-cabin",
   "metadata": {},
   "outputs": [
    {
     "name": "stdout",
     "output_type": "stream",
     "text": [
      "tensor(47.2182)\n",
      "tensor(34.3536)\n",
      "tensor(19.4599)\n"
     ]
    }
   ],
   "source": [
    "print(meanB1)\n",
    "print(meanG1)\n",
    "print(meanR1)"
   ]
  },
  {
   "cell_type": "code",
   "execution_count": 17,
   "id": "proud-tunisia",
   "metadata": {},
   "outputs": [],
   "source": [
    "meanB2 = Tensor2[:, :, 0].mean()\n",
    "meanG2 = Tensor2[:, :, 1].mean()\n",
    "meanR2 = Tensor2[:, :, 2].mean()"
   ]
  },
  {
   "cell_type": "code",
   "execution_count": 18,
   "id": "split-shuttle",
   "metadata": {},
   "outputs": [
    {
     "name": "stdout",
     "output_type": "stream",
     "text": [
      "tensor(146.2348)\n",
      "tensor(133.4588)\n",
      "tensor(94.1718)\n"
     ]
    }
   ],
   "source": [
    "print(meanB2)\n",
    "print(meanG2)\n",
    "print(meanR2)"
   ]
  },
  {
   "cell_type": "code",
   "execution_count": 19,
   "id": "wrong-blair",
   "metadata": {},
   "outputs": [],
   "source": [
    "meanB3 = Tensor3[:, :, 0].mean()\n",
    "meanG3 = Tensor3[:, :, 1].mean()\n",
    "meanR3 = Tensor3[:, :, 2].mean()"
   ]
  },
  {
   "cell_type": "code",
   "execution_count": 20,
   "id": "behind-converter",
   "metadata": {},
   "outputs": [
    {
     "name": "stdout",
     "output_type": "stream",
     "text": [
      "tensor(71.0232)\n",
      "tensor(92.4041)\n",
      "tensor(148.2654)\n"
     ]
    }
   ],
   "source": [
    "print(meanB3)\n",
    "print(meanG3)\n",
    "print(meanR3)"
   ]
  },
  {
   "cell_type": "code",
   "execution_count": null,
   "id": "dried-residence",
   "metadata": {},
   "outputs": [],
   "source": []
  }
 ],
 "metadata": {
  "kernelspec": {
   "display_name": "Python 3",
   "language": "python",
   "name": "python3"
  },
  "language_info": {
   "codemirror_mode": {
    "name": "ipython",
    "version": 3
   },
   "file_extension": ".py",
   "mimetype": "text/x-python",
   "name": "python",
   "nbconvert_exporter": "python",
   "pygments_lexer": "ipython3",
   "version": "3.8.5"
  }
 },
 "nbformat": 4,
 "nbformat_minor": 5
}

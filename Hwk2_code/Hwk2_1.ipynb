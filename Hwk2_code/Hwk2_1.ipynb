{
 "cells": [
  {
   "cell_type": "code",
   "execution_count": 1,
   "id": "northern-handling",
   "metadata": {},
   "outputs": [],
   "source": [
    "import torch"
   ]
  },
  {
   "cell_type": "code",
   "execution_count": 2,
   "id": "novel-skiing",
   "metadata": {},
   "outputs": [],
   "source": [
    "data = list(range(9))"
   ]
  },
  {
   "cell_type": "code",
   "execution_count": 3,
   "id": "outstanding-bowling",
   "metadata": {},
   "outputs": [],
   "source": [
    "temp = torch.Tensor(data)"
   ]
  },
  {
   "cell_type": "code",
   "execution_count": 4,
   "id": "celtic-charm",
   "metadata": {},
   "outputs": [
    {
     "data": {
      "text/plain": [
       "[9]"
      ]
     },
     "execution_count": 4,
     "metadata": {},
     "output_type": "execute_result"
    }
   ],
   "source": [
    "list(temp.size())"
   ]
  },
  {
   "cell_type": "code",
   "execution_count": 6,
   "id": "oriented-movement",
   "metadata": {},
   "outputs": [
    {
     "data": {
      "text/plain": [
       "0"
      ]
     },
     "execution_count": 6,
     "metadata": {},
     "output_type": "execute_result"
    }
   ],
   "source": [
    "temp.storage_offset()"
   ]
  },
  {
   "cell_type": "code",
   "execution_count": 8,
   "id": "thousand-fellow",
   "metadata": {},
   "outputs": [
    {
     "data": {
      "text/plain": [
       "((1,),\n",
       "  0.0\n",
       "  1.0\n",
       "  2.0\n",
       "  3.0\n",
       "  4.0\n",
       "  5.0\n",
       "  6.0\n",
       "  7.0\n",
       "  8.0\n",
       " [torch.FloatStorage of size 9])"
      ]
     },
     "execution_count": 8,
     "metadata": {},
     "output_type": "execute_result"
    }
   ],
   "source": [
    "temp.stride() , temp.storage()"
   ]
  },
  {
   "cell_type": "code",
   "execution_count": 10,
   "id": "uniform-mailman",
   "metadata": {},
   "outputs": [
    {
     "data": {
      "text/plain": [
       "tensor([ 1.0000,  0.5403, -0.4161, -0.9900, -0.6536,  0.2837,  0.9602,  0.7539,\n",
       "        -0.1455])"
      ]
     },
     "execution_count": 10,
     "metadata": {},
     "output_type": "execute_result"
    }
   ],
   "source": [
    "torch.cos(temp)"
   ]
  },
  {
   "cell_type": "code",
   "execution_count": null,
   "id": "proof-shame",
   "metadata": {},
   "outputs": [],
   "source": []
  }
 ],
 "metadata": {
  "kernelspec": {
   "display_name": "Python 3",
   "language": "python",
   "name": "python3"
  },
  "language_info": {
   "codemirror_mode": {
    "name": "ipython",
    "version": 3
   },
   "file_extension": ".py",
   "mimetype": "text/x-python",
   "name": "python",
   "nbconvert_exporter": "python",
   "pygments_lexer": "ipython3",
   "version": "3.8.5"
  }
 },
 "nbformat": 4,
 "nbformat_minor": 5
}
